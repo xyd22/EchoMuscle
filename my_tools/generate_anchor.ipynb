{
 "cells": [
  {
   "cell_type": "code",
   "execution_count": 1,
   "metadata": {},
   "outputs": [],
   "source": [
    "import cv2"
   ]
  },
  {
   "cell_type": "code",
   "execution_count": 5,
   "metadata": {},
   "outputs": [],
   "source": [
    "for i in range (1, 8 + 1):\n",
    "    img = cv2.imread(\"/Users/chijunglee/Documents/SciFiLab/EchoWrist/EchoWrist_Objects/my_tools/gesture - \" + str(i) + \".png\")\n",
    "    # small_img = cv2.resize(img, (0, 0), fx = 0.25, fy = 0.25)\n",
    "    # small_img = cv2.flip(small_img, 1)\n",
    "    crop_img = img[:, 900:2800]\n",
    "    # crop_img = small_img[:, 60:696]\n",
    "    cv2.imwrite(\"flute_\" + str(i) + \".png\", crop_img)"
   ]
  },
  {
   "cell_type": "code",
   "execution_count": 13,
   "metadata": {},
   "outputs": [
    {
     "data": {
      "text/plain": [
       "True"
      ]
     },
     "execution_count": 13,
     "metadata": {},
     "output_type": "execute_result"
    }
   ],
   "source": [
    "img = cv2.imread(\"/Users/chijunglee/Downloads/IMG_6624.jpeg\")\n",
    "# small_img = cv2.resize(img, (0, 0), fx = 0.25, fy = 0.25)\n",
    "# small_img = cv2.flip(small_img, 1)\n",
    "crop_img = img[:, 900:2800]\n",
    "# crop_img = small_img[:, 60:696]\n",
    "cv2.imwrite(\"6624.png\", crop_img)"
   ]
  },
  {
   "cell_type": "code",
   "execution_count": 17,
   "metadata": {},
   "outputs": [
    {
     "data": {
      "text/plain": [
       "True"
      ]
     },
     "execution_count": 17,
     "metadata": {},
     "output_type": "execute_result"
    }
   ],
   "source": [
    "img = cv2.imread(\"/Users/chijunglee/Downloads/IMG_6638.jpeg\")\n",
    "# small_img = cv2.resize(img, (0, 0), fx = 0.25, fy = 0.25)\n",
    "# small_img = cv2.flip(small_img, 1)\n",
    "crop_img = img[:, 1300:3200]\n",
    "# crop_img = small_img[:, 60:696]\n",
    "cv2.imwrite(\"6638.png\", crop_img)"
   ]
  },
  {
   "cell_type": "code",
   "execution_count": null,
   "metadata": {},
   "outputs": [],
   "source": []
  }
 ],
 "metadata": {
  "kernelspec": {
   "display_name": "EchoWristEnv",
   "language": "python",
   "name": "python3"
  },
  "language_info": {
   "codemirror_mode": {
    "name": "ipython",
    "version": 3
   },
   "file_extension": ".py",
   "mimetype": "text/x-python",
   "name": "python",
   "nbconvert_exporter": "python",
   "pygments_lexer": "ipython3",
   "version": "3.11.3"
  },
  "orig_nbformat": 4
 },
 "nbformat": 4,
 "nbformat_minor": 2
}
