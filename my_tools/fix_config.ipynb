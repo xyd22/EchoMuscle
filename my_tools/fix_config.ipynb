{
 "cells": [
  {
   "cell_type": "code",
   "execution_count": 14,
   "metadata": {},
   "outputs": [
    {
     "name": "stdout",
     "output_type": "stream",
     "text": [
      "{\n",
      "    \"start\": 1693237915.018109,\n",
      "    \"duration\": 40.28152799606323\n",
      "},\n",
      "{\n",
      "    \"start\": 1693237957.319087,\n",
      "    \"duration\": 82.58032393455505\n",
      "},\n",
      "{\n",
      "    \"start\": 1693238039.899413,\n",
      "    \"duration\": 32.22448182106018\n",
      "},\n"
     ]
    }
   ],
   "source": [
    "f = \"/Users/chijunglee/Documents/SciFiLab/EchoWrist/EchoWrist_Objects/pilot_study/test_new_10/record_20230828_115149_978020_records.txt\"\n",
    "# fold_start_poses = [0, 20, 41, 81, 122, 138]\n",
    "# fold_end_poses = [19, 39, 80, 120, 137, 153]\n",
    "fold_start_poses = [0, 21, 62]\n",
    "fold_end_poses = [19, 61, 77]\n",
    "for i in range(len(fold_start_poses)):\n",
    "    with open(f) as file:\n",
    "        fold_end_pose = float(file.readlines()[fold_end_poses[i]].split(\",\")[2])\n",
    "    with open(f) as file:\n",
    "        fold_start_pose = float(file.readlines()[fold_start_poses[i]].split(\",\")[1])\n",
    "    print(\"{\\n    \\\"start\\\": \" + str(fold_start_pose) + \n",
    "          \",\\n    \\\"duration\\\": \" + str(fold_end_pose - fold_start_pose) + \"\\n},\")"
   ]
  },
  {
   "cell_type": "code",
   "execution_count": 3,
   "metadata": {},
   "outputs": [
    {
     "name": "stdout",
     "output_type": "stream",
     "text": [
      "4,1693799055.824509,1693799073.832410,scroll\n",
      "5,1693799076.530752,1693799094.541883,wipe\n",
      "1,1693799096.989306,1693799115.022003,stir\n",
      "2,1693799117.509896,1693799135.528323,drink\n",
      "0,1693799138.015982,1693799156.039242,pour\n",
      "5,1693799158.491271,1693799176.514084,wipe\n",
      "4,1693799179.011661,1693799197.026655,scroll\n",
      "1,1693799199.493088,1693799217.504343,stir\n",
      "3,1693799219.993395,1693799238.017793,type\n",
      "2,1693799240.532991,1693799258.558760,drink\n",
      "3,1693799260.988913,1693799279.000908,type\n",
      "0,1693799281.491379,1693799299.510393,pour\n",
      "3,1693799302.014321,1693799320.023018,type\n",
      "1,1693799322.505793,1693799340.532267,stir\n",
      "0,1693799342.987926,1693799361.006976,pour\n",
      "0,1693799363.51694,1693799381.517151,pour\n",
      "3,1693799383.987866,1693799401.997509,type\n",
      "4,1693799404.523539,1693799422.541330,scroll\n",
      "2,1693799425.01347,1693799443.015975,drink\n",
      "5,1693799445.48967,1693799463.490372,wipe\n",
      "4,1693799465.988312,1693799484.002581,scroll\n",
      "5,1693799486.521115,1693799504.548689,wipe\n",
      "2,1693799506.987791,1693799524.990656,drink\n",
      "1,1693799527.486089,1693799545.502695,stir\n",
      "\n"
     ]
    }
   ],
   "source": [
    "file = \"/Users/chijunglee/Documents/SciFiLab/EchoWrist/EchoWrist_Activities/pilot_study/old_act_4/record_20230903_234403_672000_records.txt\"\n",
    "\n",
    "with open(file, 'r', encoding='utf-8') as file:\n",
    "\tdata = file.readlines()\n",
    "\n",
    "new_data = \"\"\n",
    "for line in data:\n",
    "\tnew_time = float(line.split(\",\")[1]) + 2\n",
    "\tnew_line = line.split(\",\")[0] + \",\" + str(new_time) + \",\" + line.split(\",\")[2] + \",\" + line.split(\",\")[3]\n",
    "\tnew_data += new_line\n",
    "\n",
    "print(new_data)\n",
    "\n",
    "# new_file = \"/Users/chijunglee/Documents/SciFiLab/EchoWrist/EchoWrist_Activities/pilot_study/old_act_4/05_record_20230903_234403_672000_records.txt\"\n"
   ]
  },
  {
   "cell_type": "code",
   "execution_count": null,
   "metadata": {},
   "outputs": [],
   "source": []
  }
 ],
 "metadata": {
  "kernelspec": {
   "display_name": "EchoWristEnv",
   "language": "python",
   "name": "python3"
  },
  "language_info": {
   "codemirror_mode": {
    "name": "ipython",
    "version": 3
   },
   "file_extension": ".py",
   "mimetype": "text/x-python",
   "name": "python",
   "nbconvert_exporter": "python",
   "pygments_lexer": "ipython3",
   "version": "3.11.3"
  },
  "orig_nbformat": 4
 },
 "nbformat": 4,
 "nbformat_minor": 2
}
